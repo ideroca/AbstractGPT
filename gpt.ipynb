{
 "cells": [
  {
   "cell_type": "code",
   "execution_count": 2,
   "metadata": {},
   "outputs": [],
   "source": [
    "from dotenv import load_dotenv\n",
    "import os\n",
    "from bs4 import BeautifulSoup\n",
    "from selenium import webdriver\n",
    "import numpy as np\n",
    "import openai\n",
    "import pandas as pd\n",
    "import pickle\n",
    "import tiktoken\n",
    "from tqdm import tqdm\n",
    "\n",
    "load_dotenv()\n",
    "\n",
    "openai.api_key = os.getenv('OPENAI_API_KEY')\n",
    "\n",
    "\n",
    "COMPLETIONS_MODEL = \"text-davinci-003\"\n",
    "EMBEDDING_MODEL = \"text-embedding-ada-002\""
   ]
  },
  {
   "attachments": {},
   "cell_type": "markdown",
   "metadata": {},
   "source": [
    "## Scrape Conference data"
   ]
  },
  {
   "attachments": {},
   "cell_type": "markdown",
   "metadata": {},
   "source": [
    "#### Setup Selenium"
   ]
  },
  {
   "cell_type": "code",
   "execution_count": 12,
   "metadata": {},
   "outputs": [],
   "source": [
    "dr = webdriver.Chrome()\n",
    "dr.get(\"https://aasldpubs.onlinelibrary.wiley.com/doi/10.1002/hep.32697\")\n",
    "bs = BeautifulSoup(dr.page_source,\"html\")"
   ]
  },
  {
   "attachments": {},
   "cell_type": "markdown",
   "metadata": {},
   "source": [
    "#### Find and scrape titles and abstracts"
   ]
  },
  {
   "cell_type": "code",
   "execution_count": 13,
   "metadata": {},
   "outputs": [],
   "source": [
    "abstracts = bs.find_all('section', {'class': 'article-section__content'})"
   ]
  },
  {
   "cell_type": "code",
   "execution_count": 14,
   "metadata": {},
   "outputs": [
    {
     "name": "stderr",
     "output_type": "stream",
     "text": [
      "100%|██████████| 2031/2031 [00:00<00:00, 6922.02it/s]\n"
     ]
    }
   ],
   "source": [
    "titles = []\n",
    "_abs = []\n",
    "\n",
    "for i in tqdm(range(len(abstracts))):\n",
    "    titles.append(' '.join(abstracts[i].find('h3', {'class': 'article-section__sub-title section2'}).stripped_strings))\n",
    "    _abs.append(' '.join(abstracts[i].find_all('p')[1].stripped_strings))\n"
   ]
  },
  {
   "cell_type": "code",
   "execution_count": 15,
   "metadata": {},
   "outputs": [],
   "source": [
    "data = pd.DataFrame({'title': titles, 'abstract': _abs})"
   ]
  },
  {
   "cell_type": "code",
   "execution_count": 20,
   "metadata": {},
   "outputs": [
    {
     "data": {
      "text/html": [
       "<div>\n",
       "<style scoped>\n",
       "    .dataframe tbody tr th:only-of-type {\n",
       "        vertical-align: middle;\n",
       "    }\n",
       "\n",
       "    .dataframe tbody tr th {\n",
       "        vertical-align: top;\n",
       "    }\n",
       "\n",
       "    .dataframe thead th {\n",
       "        text-align: right;\n",
       "    }\n",
       "</style>\n",
       "<table border=\"1\" class=\"dataframe\">\n",
       "  <thead>\n",
       "    <tr style=\"text-align: right;\">\n",
       "      <th></th>\n",
       "      <th>title</th>\n",
       "      <th>abstract</th>\n",
       "    </tr>\n",
       "  </thead>\n",
       "  <tbody>\n",
       "    <tr>\n",
       "      <th>0</th>\n",
       "      <td>TENOFOVIR-DF THERAPY PREVENTS HEPATITIS B VERT...</td>\n",
       "      <td>Background: Maternal tenofovir disoproxil fuma...</td>\n",
       "    </tr>\n",
       "    <tr>\n",
       "      <th>1</th>\n",
       "      <td>GLYCOLYSIS PROMOTES EXTRACELLULAR VESICLE RELE...</td>\n",
       "      <td>Background: Liver fibrosis is characterized by...</td>\n",
       "    </tr>\n",
       "    <tr>\n",
       "      <th>2</th>\n",
       "      <td>THE MULTI-ORGAN DYSFUNCTION AND EVALUATION FOR...</td>\n",
       "      <td>Background: Patients with acute-on-chronic liv...</td>\n",
       "    </tr>\n",
       "    <tr>\n",
       "      <th>3</th>\n",
       "      <td>ASSESSMENT OF KIDNEY FUNCTION IN PATIENTS WITH...</td>\n",
       "      <td>Background: Recently, new estimating GFR equat...</td>\n",
       "    </tr>\n",
       "    <tr>\n",
       "      <th>4</th>\n",
       "      <td>NOT ALL MELD SCORES ARE CREATED EQUAL: MELD DR...</td>\n",
       "      <td>Background: For the same MELD score at listing...</td>\n",
       "    </tr>\n",
       "    <tr>\n",
       "      <th>...</th>\n",
       "      <td>...</td>\n",
       "      <td>...</td>\n",
       "    </tr>\n",
       "    <tr>\n",
       "      <th>2026</th>\n",
       "      <td>LOW PREVALENCE OF HEPATITIS B IMMUNITY AMONG P...</td>\n",
       "      <td>Background: The Fontan operation is a final st...</td>\n",
       "    </tr>\n",
       "    <tr>\n",
       "      <th>2027</th>\n",
       "      <td>EARLY MINIMIZATION OF IMMUNOSUPPRESSION AFTER ...</td>\n",
       "      <td>Background: Hepatoblastoma (HPB) is a malignan...</td>\n",
       "    </tr>\n",
       "    <tr>\n",
       "      <th>2028</th>\n",
       "      <td>SUSCEPTIBILITY OF HUMAN FETAL HEPATOCYTES (hTE...</td>\n",
       "      <td>Background: Intrauterine exposure to ethanol (...</td>\n",
       "    </tr>\n",
       "    <tr>\n",
       "      <th>2029</th>\n",
       "      <td>ACQUIRED IMPAIRMENTS IN ATAXIA TELANGIECTASIA ...</td>\n",
       "      <td>Background: The integrity of DNA replication m...</td>\n",
       "    </tr>\n",
       "    <tr>\n",
       "      <th>2030</th>\n",
       "      <td>LACTATIONAL DELIVERY OF TRICLOSAN PROMOTES NON...</td>\n",
       "      <td>Background: Pediatric non-alcoholic fatty live...</td>\n",
       "    </tr>\n",
       "  </tbody>\n",
       "</table>\n",
       "<p>2031 rows × 2 columns</p>\n",
       "</div>"
      ],
      "text/plain": [
       "                                                  title  \\\n",
       "0     TENOFOVIR-DF THERAPY PREVENTS HEPATITIS B VERT...   \n",
       "1     GLYCOLYSIS PROMOTES EXTRACELLULAR VESICLE RELE...   \n",
       "2     THE MULTI-ORGAN DYSFUNCTION AND EVALUATION FOR...   \n",
       "3     ASSESSMENT OF KIDNEY FUNCTION IN PATIENTS WITH...   \n",
       "4     NOT ALL MELD SCORES ARE CREATED EQUAL: MELD DR...   \n",
       "...                                                 ...   \n",
       "2026  LOW PREVALENCE OF HEPATITIS B IMMUNITY AMONG P...   \n",
       "2027  EARLY MINIMIZATION OF IMMUNOSUPPRESSION AFTER ...   \n",
       "2028  SUSCEPTIBILITY OF HUMAN FETAL HEPATOCYTES (hTE...   \n",
       "2029  ACQUIRED IMPAIRMENTS IN ATAXIA TELANGIECTASIA ...   \n",
       "2030  LACTATIONAL DELIVERY OF TRICLOSAN PROMOTES NON...   \n",
       "\n",
       "                                               abstract  \n",
       "0     Background: Maternal tenofovir disoproxil fuma...  \n",
       "1     Background: Liver fibrosis is characterized by...  \n",
       "2     Background: Patients with acute-on-chronic liv...  \n",
       "3     Background: Recently, new estimating GFR equat...  \n",
       "4     Background: For the same MELD score at listing...  \n",
       "...                                                 ...  \n",
       "2026  Background: The Fontan operation is a final st...  \n",
       "2027  Background: Hepatoblastoma (HPB) is a malignan...  \n",
       "2028  Background: Intrauterine exposure to ethanol (...  \n",
       "2029  Background: The integrity of DNA replication m...  \n",
       "2030  Background: Pediatric non-alcoholic fatty live...  \n",
       "\n",
       "[2031 rows x 2 columns]"
      ]
     },
     "execution_count": 20,
     "metadata": {},
     "output_type": "execute_result"
    }
   ],
   "source": [
    "data"
   ]
  },
  {
   "attachments": {},
   "cell_type": "markdown",
   "metadata": {},
   "source": [
    "## Define embbedding search functions"
   ]
  },
  {
   "cell_type": "code",
   "execution_count": 4,
   "metadata": {},
   "outputs": [],
   "source": [
    "def get_embedding(text: str, model: str=EMBEDDING_MODEL) -> list[float]:\n",
    "    result = openai.Embedding.create(\n",
    "      model=model,\n",
    "      input=text\n",
    "    )\n",
    "    return result[\"data\"][0][\"embedding\"]\n",
    "\n",
    "def compute_doc_embeddings(df: pd.DataFrame) -> dict[tuple[str, str], list[float]]:\n",
    "    \"\"\"\n",
    "    Create an embedding for each row in the dataframe using the OpenAI Embeddings API.\n",
    "    \n",
    "    Return a dictionary that maps between each embedding vector and the index of the row that it corresponds to.\n",
    "    \"\"\"\n",
    "    return {\n",
    "        idx: get_embedding(r.content) for idx, r in df.iterrows()\n",
    "    }"
   ]
  },
  {
   "cell_type": "code",
   "execution_count": 6,
   "metadata": {},
   "outputs": [],
   "source": [
    "def load_embeddings(fname: str) -> dict[tuple[str, str], list[float]]:\n",
    "    \"\"\"\n",
    "    Read the document embeddings and their keys from a CSV.\n",
    "    \n",
    "    fname is the path to a CSV with exactly these named columns: \n",
    "        \"title\", \"heading\", \"0\", \"1\", ... up to the length of the embedding vectors.\n",
    "    \"\"\"\n",
    "    \n",
    "    df = pd.read_csv(fname, header=0)\n",
    "    max_dim = max([int(c) for c in df.columns if c != \"title\"])\n",
    "    return {\n",
    "           (r.title): [r[str(i)] for i in range(max_dim + 1)] for _, r in df.iterrows()\n",
    "    }"
   ]
  },
  {
   "cell_type": "code",
   "execution_count": 36,
   "metadata": {},
   "outputs": [],
   "source": [
    "data = data.rename(columns = {'abstract': 'content'})"
   ]
  },
  {
   "cell_type": "code",
   "execution_count": 9,
   "metadata": {},
   "outputs": [],
   "source": [
    "document_embeddings = pd.read_csv('AASLD_embeddings.csv').drop(columns='Unnamed: 0')"
   ]
  },
  {
   "cell_type": "code",
   "execution_count": 26,
   "metadata": {},
   "outputs": [
    {
     "data": {
      "text/html": [
       "<div>\n",
       "<style scoped>\n",
       "    .dataframe tbody tr th:only-of-type {\n",
       "        vertical-align: middle;\n",
       "    }\n",
       "\n",
       "    .dataframe tbody tr th {\n",
       "        vertical-align: top;\n",
       "    }\n",
       "\n",
       "    .dataframe thead th {\n",
       "        text-align: right;\n",
       "    }\n",
       "</style>\n",
       "<table border=\"1\" class=\"dataframe\">\n",
       "  <thead>\n",
       "    <tr style=\"text-align: right;\">\n",
       "      <th></th>\n",
       "      <th>0</th>\n",
       "      <th>1</th>\n",
       "      <th>2</th>\n",
       "      <th>3</th>\n",
       "      <th>4</th>\n",
       "      <th>5</th>\n",
       "      <th>6</th>\n",
       "      <th>7</th>\n",
       "      <th>8</th>\n",
       "      <th>9</th>\n",
       "      <th>...</th>\n",
       "      <th>2021</th>\n",
       "      <th>2022</th>\n",
       "      <th>2023</th>\n",
       "      <th>2024</th>\n",
       "      <th>2025</th>\n",
       "      <th>2026</th>\n",
       "      <th>2027</th>\n",
       "      <th>2028</th>\n",
       "      <th>2029</th>\n",
       "      <th>2030</th>\n",
       "    </tr>\n",
       "  </thead>\n",
       "  <tbody>\n",
       "    <tr>\n",
       "      <th>0</th>\n",
       "      <td>-0.030594</td>\n",
       "      <td>-0.012845</td>\n",
       "      <td>0.003543</td>\n",
       "      <td>-0.000206</td>\n",
       "      <td>-0.004966</td>\n",
       "      <td>0.004630</td>\n",
       "      <td>-0.007686</td>\n",
       "      <td>-0.035994</td>\n",
       "      <td>-0.011646</td>\n",
       "      <td>-0.015070</td>\n",
       "      <td>...</td>\n",
       "      <td>0.000742</td>\n",
       "      <td>-0.014881</td>\n",
       "      <td>-0.015115</td>\n",
       "      <td>-0.023274</td>\n",
       "      <td>-0.022889</td>\n",
       "      <td>-0.013920</td>\n",
       "      <td>-0.004562</td>\n",
       "      <td>-0.013241</td>\n",
       "      <td>-0.028122</td>\n",
       "      <td>0.005009</td>\n",
       "    </tr>\n",
       "    <tr>\n",
       "      <th>1</th>\n",
       "      <td>-0.012238</td>\n",
       "      <td>-0.013851</td>\n",
       "      <td>-0.006504</td>\n",
       "      <td>0.003811</td>\n",
       "      <td>-0.008996</td>\n",
       "      <td>0.004609</td>\n",
       "      <td>0.004411</td>\n",
       "      <td>-0.010513</td>\n",
       "      <td>0.003088</td>\n",
       "      <td>-0.014373</td>\n",
       "      <td>...</td>\n",
       "      <td>0.011657</td>\n",
       "      <td>0.015114</td>\n",
       "      <td>0.014385</td>\n",
       "      <td>0.026290</td>\n",
       "      <td>0.009256</td>\n",
       "      <td>0.002864</td>\n",
       "      <td>0.009185</td>\n",
       "      <td>-0.006951</td>\n",
       "      <td>0.008461</td>\n",
       "      <td>0.009196</td>\n",
       "    </tr>\n",
       "    <tr>\n",
       "      <th>2</th>\n",
       "      <td>-0.031655</td>\n",
       "      <td>0.007666</td>\n",
       "      <td>0.027547</td>\n",
       "      <td>0.018677</td>\n",
       "      <td>0.021802</td>\n",
       "      <td>0.023698</td>\n",
       "      <td>0.025907</td>\n",
       "      <td>0.016879</td>\n",
       "      <td>0.024858</td>\n",
       "      <td>0.031881</td>\n",
       "      <td>...</td>\n",
       "      <td>0.003363</td>\n",
       "      <td>0.007537</td>\n",
       "      <td>0.032086</td>\n",
       "      <td>0.009643</td>\n",
       "      <td>-0.001252</td>\n",
       "      <td>-0.004950</td>\n",
       "      <td>0.012045</td>\n",
       "      <td>-0.021838</td>\n",
       "      <td>-0.003897</td>\n",
       "      <td>-0.002672</td>\n",
       "    </tr>\n",
       "    <tr>\n",
       "      <th>3</th>\n",
       "      <td>-0.037638</td>\n",
       "      <td>-0.038661</td>\n",
       "      <td>-0.043213</td>\n",
       "      <td>-0.046470</td>\n",
       "      <td>-0.037981</td>\n",
       "      <td>-0.028972</td>\n",
       "      <td>-0.052369</td>\n",
       "      <td>-0.027567</td>\n",
       "      <td>-0.029419</td>\n",
       "      <td>-0.036784</td>\n",
       "      <td>...</td>\n",
       "      <td>-0.017677</td>\n",
       "      <td>-0.020869</td>\n",
       "      <td>-0.043223</td>\n",
       "      <td>-0.014543</td>\n",
       "      <td>-0.023585</td>\n",
       "      <td>-0.031832</td>\n",
       "      <td>-0.014271</td>\n",
       "      <td>-0.046781</td>\n",
       "      <td>-0.055005</td>\n",
       "      <td>-0.042568</td>\n",
       "    </tr>\n",
       "    <tr>\n",
       "      <th>4</th>\n",
       "      <td>-0.018588</td>\n",
       "      <td>-0.035942</td>\n",
       "      <td>-0.015991</td>\n",
       "      <td>0.014279</td>\n",
       "      <td>-0.023021</td>\n",
       "      <td>0.001890</td>\n",
       "      <td>-0.018491</td>\n",
       "      <td>-0.015474</td>\n",
       "      <td>-0.013503</td>\n",
       "      <td>-0.023844</td>\n",
       "      <td>...</td>\n",
       "      <td>-0.027087</td>\n",
       "      <td>-0.027762</td>\n",
       "      <td>-0.035082</td>\n",
       "      <td>-0.017970</td>\n",
       "      <td>-0.030866</td>\n",
       "      <td>-0.037646</td>\n",
       "      <td>-0.036819</td>\n",
       "      <td>-0.046619</td>\n",
       "      <td>-0.063838</td>\n",
       "      <td>-0.023531</td>\n",
       "    </tr>\n",
       "  </tbody>\n",
       "</table>\n",
       "<p>5 rows × 2031 columns</p>\n",
       "</div>"
      ],
      "text/plain": [
       "          0         1         2         3         4         5         6  \\\n",
       "0 -0.030594 -0.012845  0.003543 -0.000206 -0.004966  0.004630 -0.007686   \n",
       "1 -0.012238 -0.013851 -0.006504  0.003811 -0.008996  0.004609  0.004411   \n",
       "2 -0.031655  0.007666  0.027547  0.018677  0.021802  0.023698  0.025907   \n",
       "3 -0.037638 -0.038661 -0.043213 -0.046470 -0.037981 -0.028972 -0.052369   \n",
       "4 -0.018588 -0.035942 -0.015991  0.014279 -0.023021  0.001890 -0.018491   \n",
       "\n",
       "          7         8         9  ...      2021      2022      2023      2024  \\\n",
       "0 -0.035994 -0.011646 -0.015070  ...  0.000742 -0.014881 -0.015115 -0.023274   \n",
       "1 -0.010513  0.003088 -0.014373  ...  0.011657  0.015114  0.014385  0.026290   \n",
       "2  0.016879  0.024858  0.031881  ...  0.003363  0.007537  0.032086  0.009643   \n",
       "3 -0.027567 -0.029419 -0.036784  ... -0.017677 -0.020869 -0.043223 -0.014543   \n",
       "4 -0.015474 -0.013503 -0.023844  ... -0.027087 -0.027762 -0.035082 -0.017970   \n",
       "\n",
       "       2025      2026      2027      2028      2029      2030  \n",
       "0 -0.022889 -0.013920 -0.004562 -0.013241 -0.028122  0.005009  \n",
       "1  0.009256  0.002864  0.009185 -0.006951  0.008461  0.009196  \n",
       "2 -0.001252 -0.004950  0.012045 -0.021838 -0.003897 -0.002672  \n",
       "3 -0.023585 -0.031832 -0.014271 -0.046781 -0.055005 -0.042568  \n",
       "4 -0.030866 -0.037646 -0.036819 -0.046619 -0.063838 -0.023531  \n",
       "\n",
       "[5 rows x 2031 columns]"
      ]
     },
     "execution_count": 26,
     "metadata": {},
     "output_type": "execute_result"
    }
   ],
   "source": [
    "document_embeddings.head()"
   ]
  },
  {
   "cell_type": "code",
   "execution_count": 28,
   "metadata": {},
   "outputs": [],
   "source": [
    "#document_embeddings = compute_doc_embeddings(data)\n",
    "embs = {}\n",
    "for i in range(len(data['title'])):\n",
    "    embs[data['title'][i]] = list(document_embeddings[f'{i}'])"
   ]
  },
  {
   "cell_type": "code",
   "execution_count": 13,
   "metadata": {},
   "outputs": [],
   "source": [
    "#pd.DataFrame(document_embeddings).to_csv('AASLD_embeddings.csv')"
   ]
  },
  {
   "cell_type": "code",
   "execution_count": 29,
   "metadata": {},
   "outputs": [
    {
     "name": "stdout",
     "output_type": "stream",
     "text": [
      "TENOFOVIR-DF THERAPY PREVENTS HEPATITIS B VERTICAL TRANSMISSION IN HIGHLY VIREMIC MOTHERS WITHOUT HBV IMMUNOGLOBULIN FOR INFANTS : [-0.030594365671277, -0.0122377462685108, -0.0316549688577652, -0.0376378670334816, -0.018587777391076]... (1536 entries)\n"
     ]
    }
   ],
   "source": [
    "example_entry = list(embs.items())[0]\n",
    "print(f\"{example_entry[0]} : {example_entry[1][:5]}... ({len(example_entry[1])} entries)\")"
   ]
  },
  {
   "cell_type": "code",
   "execution_count": 30,
   "metadata": {},
   "outputs": [],
   "source": [
    "def vector_similarity(x: list[float], y: list[float]) -> float:\n",
    "    \"\"\"\n",
    "    Returns the similarity between two vectors.\n",
    "    \n",
    "    Because OpenAI Embeddings are normalized to length 1, the cosine similarity is the same as the dot product.\n",
    "    \"\"\"\n",
    "    return np.dot(np.array(x), np.array(y))\n",
    "\n",
    "def order_document_sections_by_query_similarity(query: str, contexts: dict[(str, str), np.array]) -> list[(float, (str, str))]:\n",
    "    \"\"\"\n",
    "    Find the query embedding for the supplied query, and compare it against all of the pre-calculated document embeddings\n",
    "    to find the most relevant sections. \n",
    "    \n",
    "    Return the list of document sections, sorted by relevance in descending order.\n",
    "    \"\"\"\n",
    "    query_embedding = get_embedding(query)\n",
    "    \n",
    "    document_similarities = sorted([\n",
    "        (vector_similarity(query_embedding, doc_embedding), doc_index) for doc_index, doc_embedding in contexts.items()\n",
    "    ], reverse=True)\n",
    "    \n",
    "    return document_similarities"
   ]
  },
  {
   "cell_type": "code",
   "execution_count": 31,
   "metadata": {},
   "outputs": [
    {
     "data": {
      "text/plain": [
       "[(0.8817804675403065,\n",
       "  'AN ANNUAL SURVEY OF PATIENT PERSPECTIVES TO UNDERSTAND AND MONITOR THE EVOLVING SOCIAL AND MEDICAL EXPERIENCE OF NON-ALCOHOLIC FATTY LIVER DISEASE PATIENTS (NAFLD) IN THE UNITED STATES.'),\n",
       " (0.8775478601703193, 'BARRIERS IN THE TREATMENT OF OBESITY IN NAFLD'),\n",
       " (0.8727768436498491,\n",
       "  'NEW INSIGHT INTO THE PATHOPHYSIOLOGICAL PATHWAY OF NON-ALCOHOLIC FATTY LIVER DISEASE: A LIVER TISSUE PROTEOMICS ANALYSIS'),\n",
       " (0.8723336487560348,\n",
       "  'RAPID REPURPOSING OF DRUGS FOR NON-ALCOHOLIC FATTY LIVER DISEASE USING HIGH CONTENT IMAGING'),\n",
       " (0.8722550359036778,\n",
       "  'VARIATIONS IN DIETARY LIPIDS AND LIPID SOLUBLE MICRONUTRIENTS ASSOCIATED WITH NAFLD: ANALYSIS OF A NATIONAL US COHORT DATABASE')]"
      ]
     },
     "execution_count": 31,
     "metadata": {},
     "output_type": "execute_result"
    }
   ],
   "source": [
    "order_document_sections_by_query_similarity(\"What are some of the new topics being discussed regarding NAFLD and other fatty liver diseases?\", embs)[:5]"
   ]
  },
  {
   "cell_type": "code",
   "execution_count": 60,
   "metadata": {},
   "outputs": [
    {
     "data": {
      "text/plain": [
       "[(0.8776485020083575, 'BARRIERS IN THE TREATMENT OF OBESITY IN NAFLD'),\n",
       " (0.8733085335938694,\n",
       "  'AN ANNUAL SURVEY OF PATIENT PERSPECTIVES TO UNDERSTAND AND MONITOR THE EVOLVING SOCIAL AND MEDICAL EXPERIENCE OF NON-ALCOHOLIC FATTY LIVER DISEASE PATIENTS (NAFLD) IN THE UNITED STATES.'),\n",
       " (0.8726046854199494,\n",
       "  'A PROFILE OF GASTROENTEROLOGISTS’ AND HEPATOLOGISTS’ PREPARING OR WAREHOUSING NAFLD AND NASH PATIENTS FOR AN EVENTUAL FDA APPROVED THERAPY'),\n",
       " (0.8719296618077453,\n",
       "  'RAPID REPURPOSING OF DRUGS FOR NON-ALCOHOLIC FATTY LIVER DISEASE USING HIGH CONTENT IMAGING'),\n",
       " (0.870781724890584,\n",
       "  'NEW INSIGHT INTO THE PATHOPHYSIOLOGICAL PATHWAY OF NON-ALCOHOLIC FATTY LIVER DISEASE: A LIVER TISSUE PROTEOMICS ANALYSIS')]"
      ]
     },
     "execution_count": 60,
     "metadata": {},
     "output_type": "execute_result"
    }
   ],
   "source": [
    "order_document_sections_by_query_similarity(\"What are some of the new topics being discussed regarding the treatment of NAFLD and other fatty liver diseases?\", embs)[:5]"
   ]
  },
  {
   "cell_type": "code",
   "execution_count": null,
   "metadata": {},
   "outputs": [],
   "source": [
    "order_document_sections_by_query_similarity(\"What are some of the new topics being discussed regarding the treatment of NAFLD and other fatty liver diseases?\", embs)[:5]"
   ]
  },
  {
   "cell_type": "code",
   "execution_count": 32,
   "metadata": {},
   "outputs": [
    {
     "data": {
      "text/plain": [
       "'Context separator contains 3 tokens'"
      ]
     },
     "execution_count": 32,
     "metadata": {},
     "output_type": "execute_result"
    }
   ],
   "source": [
    "MAX_SECTION_LEN = 1000\n",
    "SEPARATOR = \"\\n* \"\n",
    "ENCODING = \"gpt2\"  # encoding for text-davinci-003\n",
    "\n",
    "encoding = tiktoken.get_encoding(ENCODING)\n",
    "separator_len = len(encoding.encode(SEPARATOR))\n",
    "\n",
    "f\"Context separator contains {separator_len} tokens\""
   ]
  },
  {
   "cell_type": "code",
   "execution_count": 78,
   "metadata": {},
   "outputs": [
    {
     "data": {
      "text/html": [
       "<div>\n",
       "<style scoped>\n",
       "    .dataframe tbody tr th:only-of-type {\n",
       "        vertical-align: middle;\n",
       "    }\n",
       "\n",
       "    .dataframe tbody tr th {\n",
       "        vertical-align: top;\n",
       "    }\n",
       "\n",
       "    .dataframe thead th {\n",
       "        text-align: right;\n",
       "    }\n",
       "</style>\n",
       "<table border=\"1\" class=\"dataframe\">\n",
       "  <thead>\n",
       "    <tr style=\"text-align: right;\">\n",
       "      <th></th>\n",
       "      <th>title</th>\n",
       "      <th>content</th>\n",
       "    </tr>\n",
       "  </thead>\n",
       "  <tbody>\n",
       "    <tr>\n",
       "      <th>1130</th>\n",
       "      <td>BARRIERS IN THE TREATMENT OF OBESITY IN NAFLD</td>\n",
       "      <td>Background: Non-alcohol-related fatty liver di...</td>\n",
       "    </tr>\n",
       "  </tbody>\n",
       "</table>\n",
       "</div>"
      ],
      "text/plain": [
       "                                              title  \\\n",
       "1130  BARRIERS IN THE TREATMENT OF OBESITY IN NAFLD   \n",
       "\n",
       "                                                content  \n",
       "1130  Background: Non-alcohol-related fatty liver di...  "
      ]
     },
     "execution_count": 78,
     "metadata": {},
     "output_type": "execute_result"
    }
   ],
   "source": [
    "data[data['title'] == 'BARRIERS IN THE TREATMENT OF OBESITY IN NAFLD']#['content'].values[0]"
   ]
  },
  {
   "cell_type": "code",
   "execution_count": 77,
   "metadata": {},
   "outputs": [
    {
     "data": {
      "text/plain": [
       "title      TENOFOVIR-DF THERAPY PREVENTS HEPATITIS B VERT...\n",
       "content    Background: Maternal tenofovir disoproxil fuma...\n",
       "Name: 0, dtype: object"
      ]
     },
     "execution_count": 77,
     "metadata": {},
     "output_type": "execute_result"
    }
   ],
   "source": [
    "data.loc[0]"
   ]
  },
  {
   "cell_type": "code",
   "execution_count": 41,
   "metadata": {},
   "outputs": [],
   "source": [
    "def construct_prompt(question: str, context_embeddings: dict, df: pd.DataFrame) -> str:\n",
    "    \"\"\"\n",
    "    Fetch relevant \n",
    "    \"\"\"\n",
    "    most_relevant_document_sections = order_document_sections_by_query_similarity(question, context_embeddings)\n",
    "    \n",
    "    chosen_sections = []\n",
    "    chosen_sections_len = 0\n",
    "    chosen_sections_indexes = []\n",
    "     \n",
    "    for _, section_index in most_relevant_document_sections:\n",
    "        # Add contexts until we run out of space.        \n",
    "        document_section = df[df['title'] == section_index]\n",
    "        \n",
    "        chosen_sections_len += len(document_section.content.values[0].split(' ')) + separator_len\n",
    "        if chosen_sections_len > MAX_SECTION_LEN:\n",
    "            break\n",
    "            \n",
    "        chosen_sections.append(SEPARATOR + document_section.content.values[0].replace(\"\\n\", \" \"))\n",
    "        chosen_sections_indexes.append(str(section_index))\n",
    "            \n",
    "    # Useful diagnostic information\n",
    "    print(f\"Selected {len(chosen_sections)} document sections:\")\n",
    "    print(\"\\n\".join(chosen_sections_indexes))\n",
    "    \n",
    "    #header = \"\"\"Answer the question as truthfully as possible using the provided context, and if the answer is not contained within the text below, say \"I don't know.\"\\n\\nContext:\\n\"\"\"\n",
    "\n",
    "    header = \"\"\"Summarize each of the medical abstracts provided below into a bulleted list that explains the purpose, methods, and results.\"\\n\\nContext:\\n\"\"\"\n",
    "    \n",
    "    return header + \"\".join(chosen_sections) + \"\\n\\n Summary: \"# + question + \"\\n A:\""
   ]
  },
  {
   "cell_type": "code",
   "execution_count": 42,
   "metadata": {},
   "outputs": [
    {
     "name": "stdout",
     "output_type": "stream",
     "text": [
      "Selected 2 document sections:\n",
      "IDENTIFICATION OF THERAPEUTIC TARGETS FOR NON-ALCOHOLIC FATTY LIVER DISEASE THROUGH IN VIVO GENETIC SCREENS OF A PATIENT TRANSCRIPTOME-DERIVED shRNA LIBRARY\n",
      "NEW INSIGHT INTO THE PATHOPHYSIOLOGICAL PATHWAY OF NON-ALCOHOLIC FATTY LIVER DISEASE: A LIVER TISSUE PROTEOMICS ANALYSIS\n",
      "===\n",
      " Summarize each of the medical abstracts provided below into a bulleted list that explains the purpose, methods, and results.\"\n",
      "\n",
      "Context:\n",
      "\n",
      "* Background: Non-alcoholic fatty liver disease (NAFLD) is rapidly being recognized as the most common cause of chronic liver disease worldwide with the obesity and diabetes mellitus epidemics. However, unlike other highly prevalent diseases, it remains an underrepresented disease with limited effective treatment options. Therefore, there is an urgent need to prioritize innovative therapeutic development. In this study, to address this, we combine transcriptomic profiling of NAFLD patient tissues with in vivo functional genetic screens in mouse mice of NAFLD to identify potential therapeutic targets. Methods: We performed RNA sequencing on liver tissues from 130 patients covering different stages of NAFLD. Based on the transcriptomic data, we generated a pooled shRNA library targeting the dysregulated genes in patients. The library was delivered into hepatocytes by a by a transposon-based vector system and hydrodynamic tail vein injection for the in vivo genetic screen. Mice were fed two NAFLD-inducing diets, a high-fat diet with high fructose and a Choline deficient L-amino acid-defined high-fat diet, respectively. As a control, normal diet animals were served. At the end of diet treatment, livers were harvested for deep sequencing to determine the abundance of each shRNA. Highly enriched shRNAs compared to control mice were selected as target candidates. The candidates were validated for therapeutic impact by various studies, including in vivo validation assay in mice that induced that every hepatocyte expresses the shRNA of interest by using a FAH -/- model. The mice were fed the two NAFLD-inducing diets, and diverse histopathology parameters were evaluated. Results: We selected 16 and 38 candidate genes from the screening in the two models, respectively. One of them was selected as the best candidate owing to the target gene shRNA being found to be highly enriched in both models. In the in vivo validation assays, the target gene silencing showed a reduction in disease progression in NAFLD mice models compared to the control shRNA. Further validation assays showed that the target gene silencing promoted regeneration of the liver without tumor developments. Conclusion: The results show that our approach, combining the NAFLD patient liver transcriptome research with in vivo functional genetic screen in the mouse models, could pinpoint potential targets for NAFLD therapeutics. The target gene identified by our approach demonstrated alleviated disease progression and promoted regeneration in vivo when inhibited. Our study may contribute to new insights into the therapeutic development of NAFLD.\n",
      "* Background: A few approved treatment options are available for non-alcoholic fatty liver disease (NAFLD), the commonest chronic liver disease in the USA. The search for a newer pharmacological agent is based on the current understanding of pathophysiology of the NAFLD, derived mostly from animal models. Human liver tissue analysis of subjects with this disease is limited. This study compares the significant changes in proteins across the NAFLD disease with normal subjects. Methods: A portion of liver tissue was flash frozen and stored at -80°C at the time of a liver biopsy procedure. We included 71 consecutive subjects diagnosed with NAFLD (21 without non-alcoholic steatohepatitis [NASH], 37 with NASH without advanced fibrosis, and 13 with advanced fibrosis) and nine with normal histology for the study. Following lipid fraction extraction, the liver tissue was sonicated and digested with trypsin at 37°C. Mass spectrometric analysis was performed for proteins. We used the following parameters to increase the specificity and decrease the number of analytes discovered: p-value < 0.01, log fold 2 change, ≤25% missing values, sensitivity, and specificity of 60%. Results: Different protein groups were compared was made between subjects with normal histology (without NAFLD) and those with NAFLD. Compared to normal, there were 70 different proteins found to be up or down-regulated in those with NAFLD (p<0.01). Among these proteins, three proteins up-regulated (based on fold increase) are aldo-keto reductase family 1 member (2.72), inhibin beta E chain (2.2) [shown in the figure], and perilipin-2 (2.1). The down-regulated proteins are as follows: cytochrome P450 2C19 (-2.4), UDP glucuronosyltransferase 1-3 (-2.0) and glutathione-S-transferase Mu (-1.0). The 70 significant proteins found in this analysis belonged to the following five pathways in descending order of significance (p-value 2.9x10^-10 to 1.0x10^-5), with the number of proteins (n) is as follows: neutrophil degranulation (7), JAK-STAT expression (4), post translation protein phosphorylation (3), and regulation of insulin-like growth factor [IGF] (3). Conclusion: The study identified proteins besides those belonging to the IGF pathway traditionally related to NAFLD pathogenesis. These included pathways associated with the inflammatory process seen among NASH subjects. These proteins could be a potential target for intervention to reduce the NAFLD occurrence and progression. We also detected specific up-regulated and down-regulated proteins as additional targets for treatment consideration. Further elucidation of the identified proteins with comprehensive plasma proteomics will guide in finding the elusive non-invasive markers for NAFLD and NASH.\n",
      "\n",
      " Summary: \n"
     ]
    }
   ],
   "source": [
    "prompt = construct_prompt(\n",
    "    \"NAFLD gene therapy\",\n",
    "    embs,\n",
    "    data\n",
    ")\n",
    "\n",
    "print(\"===\\n\", prompt)"
   ]
  },
  {
   "cell_type": "code",
   "execution_count": 43,
   "metadata": {},
   "outputs": [],
   "source": [
    "COMPLETIONS_API_PARAMS = {\n",
    "    # We use temperature of 0.0 because it gives the most predictable, factual answer.\n",
    "    \"temperature\": 0.0,\n",
    "    \"max_tokens\": 1000,\n",
    "    \"model\": COMPLETIONS_MODEL,\n",
    "}"
   ]
  },
  {
   "cell_type": "code",
   "execution_count": 44,
   "metadata": {},
   "outputs": [],
   "source": [
    "def answer_query_with_context(\n",
    "    query: str,\n",
    "    df: pd.DataFrame,\n",
    "    document_embeddings: dict[(str, str), np.array],\n",
    "    show_prompt: bool = False\n",
    ") -> str:\n",
    "    prompt = construct_prompt(\n",
    "        query,\n",
    "        document_embeddings,\n",
    "        df\n",
    "    )\n",
    "    \n",
    "    if show_prompt:\n",
    "        print(prompt)\n",
    "\n",
    "    response = openai.Completion.create(\n",
    "                prompt=prompt,\n",
    "                **COMPLETIONS_API_PARAMS\n",
    "            )\n",
    "\n",
    "    return response[\"choices\"][0][\"text\"].strip(\" \\n\")"
   ]
  },
  {
   "cell_type": "code",
   "execution_count": 45,
   "metadata": {},
   "outputs": [
    {
     "name": "stdout",
     "output_type": "stream",
     "text": [
      "Selected 2 document sections:\n",
      "IDENTIFICATION OF THERAPEUTIC TARGETS FOR NON-ALCOHOLIC FATTY LIVER DISEASE THROUGH IN VIVO GENETIC SCREENS OF A PATIENT TRANSCRIPTOME-DERIVED shRNA LIBRARY\n",
      "NEW INSIGHT INTO THE PATHOPHYSIOLOGICAL PATHWAY OF NON-ALCOHOLIC FATTY LIVER DISEASE: A LIVER TISSUE PROTEOMICS ANALYSIS\n",
      "Summarize each of the medical abstracts provided below into a bulleted list that explains the purpose, methods, and results.\"\n",
      "\n",
      "Context:\n",
      "\n",
      "* Background: Non-alcoholic fatty liver disease (NAFLD) is rapidly being recognized as the most common cause of chronic liver disease worldwide with the obesity and diabetes mellitus epidemics. However, unlike other highly prevalent diseases, it remains an underrepresented disease with limited effective treatment options. Therefore, there is an urgent need to prioritize innovative therapeutic development. In this study, to address this, we combine transcriptomic profiling of NAFLD patient tissues with in vivo functional genetic screens in mouse mice of NAFLD to identify potential therapeutic targets. Methods: We performed RNA sequencing on liver tissues from 130 patients covering different stages of NAFLD. Based on the transcriptomic data, we generated a pooled shRNA library targeting the dysregulated genes in patients. The library was delivered into hepatocytes by a by a transposon-based vector system and hydrodynamic tail vein injection for the in vivo genetic screen. Mice were fed two NAFLD-inducing diets, a high-fat diet with high fructose and a Choline deficient L-amino acid-defined high-fat diet, respectively. As a control, normal diet animals were served. At the end of diet treatment, livers were harvested for deep sequencing to determine the abundance of each shRNA. Highly enriched shRNAs compared to control mice were selected as target candidates. The candidates were validated for therapeutic impact by various studies, including in vivo validation assay in mice that induced that every hepatocyte expresses the shRNA of interest by using a FAH -/- model. The mice were fed the two NAFLD-inducing diets, and diverse histopathology parameters were evaluated. Results: We selected 16 and 38 candidate genes from the screening in the two models, respectively. One of them was selected as the best candidate owing to the target gene shRNA being found to be highly enriched in both models. In the in vivo validation assays, the target gene silencing showed a reduction in disease progression in NAFLD mice models compared to the control shRNA. Further validation assays showed that the target gene silencing promoted regeneration of the liver without tumor developments. Conclusion: The results show that our approach, combining the NAFLD patient liver transcriptome research with in vivo functional genetic screen in the mouse models, could pinpoint potential targets for NAFLD therapeutics. The target gene identified by our approach demonstrated alleviated disease progression and promoted regeneration in vivo when inhibited. Our study may contribute to new insights into the therapeutic development of NAFLD.\n",
      "* Background: A few approved treatment options are available for non-alcoholic fatty liver disease (NAFLD), the commonest chronic liver disease in the USA. The search for a newer pharmacological agent is based on the current understanding of pathophysiology of the NAFLD, derived mostly from animal models. Human liver tissue analysis of subjects with this disease is limited. This study compares the significant changes in proteins across the NAFLD disease with normal subjects. Methods: A portion of liver tissue was flash frozen and stored at -80°C at the time of a liver biopsy procedure. We included 71 consecutive subjects diagnosed with NAFLD (21 without non-alcoholic steatohepatitis [NASH], 37 with NASH without advanced fibrosis, and 13 with advanced fibrosis) and nine with normal histology for the study. Following lipid fraction extraction, the liver tissue was sonicated and digested with trypsin at 37°C. Mass spectrometric analysis was performed for proteins. We used the following parameters to increase the specificity and decrease the number of analytes discovered: p-value < 0.01, log fold 2 change, ≤25% missing values, sensitivity, and specificity of 60%. Results: Different protein groups were compared was made between subjects with normal histology (without NAFLD) and those with NAFLD. Compared to normal, there were 70 different proteins found to be up or down-regulated in those with NAFLD (p<0.01). Among these proteins, three proteins up-regulated (based on fold increase) are aldo-keto reductase family 1 member (2.72), inhibin beta E chain (2.2) [shown in the figure], and perilipin-2 (2.1). The down-regulated proteins are as follows: cytochrome P450 2C19 (-2.4), UDP glucuronosyltransferase 1-3 (-2.0) and glutathione-S-transferase Mu (-1.0). The 70 significant proteins found in this analysis belonged to the following five pathways in descending order of significance (p-value 2.9x10^-10 to 1.0x10^-5), with the number of proteins (n) is as follows: neutrophil degranulation (7), JAK-STAT expression (4), post translation protein phosphorylation (3), and regulation of insulin-like growth factor [IGF] (3). Conclusion: The study identified proteins besides those belonging to the IGF pathway traditionally related to NAFLD pathogenesis. These included pathways associated with the inflammatory process seen among NASH subjects. These proteins could be a potential target for intervention to reduce the NAFLD occurrence and progression. We also detected specific up-regulated and down-regulated proteins as additional targets for treatment consideration. Further elucidation of the identified proteins with comprehensive plasma proteomics will guide in finding the elusive non-invasive markers for NAFLD and NASH.\n",
      "\n",
      " Summary: \n"
     ]
    },
    {
     "data": {
      "text/plain": [
       "'* Study 1:\\n    * Purpose: To identify potential therapeutic targets for non-alcoholic fatty liver disease (NAFLD) \\n    * Methods: RNA sequencing on liver tissues from 130 patients, generation of a pooled shRNA library targeting the dysregulated genes in patients, delivery of library into hepatocytes by a transposon-based vector system and hydrodynamic tail vein injection for the in vivo genetic screen, mice fed two NAFLD-inducing diets, livers harvested for deep sequencing\\n    * Results: 16 and 38 candidate genes selected from the screening in the two models, one of them selected as the best candidate, target gene silencing showed a reduction in disease progression in NAFLD mice models compared to the control shRNA, target gene silencing promoted regeneration of the liver without tumor developments\\n\\n* Study 2:\\n    * Purpose: To compare the significant changes in proteins across the NAFLD disease with normal subjects\\n    * Methods: Liver tissue flash frozen and stored at -80°C, lipid fraction extraction, liver tissue sonicated and digested with trypsin at 37°C, mass spectrometric analysis performed for proteins\\n    * Results: 70 different proteins found to be up or down-regulated in those with NAFLD (p<0.01), three proteins up-regulated (based on fold increase): aldo-keto reductase family 1 member, inhibin beta E chain, and perilipin-2, three proteins down-regulated: cytochrome P450 2C19, UDP glucuronosyltransferase 1-3, and glutathione-S-transferase Mu, 70 significant proteins belonged to five pathways in descending order of significance'"
      ]
     },
     "execution_count": 45,
     "metadata": {},
     "output_type": "execute_result"
    }
   ],
   "source": [
    "answer_query_with_context(\"NAFLD gene therapy\", data, embs, show_prompt=True)"
   ]
  },
  {
   "cell_type": "code",
   "execution_count": 93,
   "metadata": {},
   "outputs": [
    {
     "name": "stdout",
     "output_type": "stream",
     "text": [
      "- Purpose: To investigate potential barriers in the treatment of obesity in NAFLD\n",
      "- Methods: Using the 2017-2020 National Health and Nutrition Examination Survey (NHANES) database\n",
      "- Results: \n",
      "    - Prevalence of NAFLD was 35.9%\n",
      "    - 62.6% attempted dietary changes, 39.1% attempted exercise, 3.3% joined a weight loss program, 4.9% took a non-prescription supplement, 0.7% took laxatives or vomited, and 0.5% started smoking\n",
      "    - Increase in food insecurity as BMI increased\n",
      "    - Black and White NAFLD patients reported similar rates of counseling, prescription of weight loss medications, bariatric surgery, interface with healthcare, and dietary changes\n",
      "    - Black NAFLD patients were more likely to exercise, more likely to have household food insecurity, less likely to have private or any insurance coverage, and less likely to perceive themselves as overweight\n",
      "    - Rate of prescribing weight loss medications or bariatric surgery for NAFLD was overall low at <5%\n",
      "- Conclusion: Need to better understand the social determinants of health in promoting weight loss and treating NAFLD\n"
     ]
    }
   ],
   "source": [
    "print('- Purpose: To investigate potential barriers in the treatment of obesity in NAFLD\\n- Methods: Using the 2017-2020 National Health and Nutrition Examination Survey (NHANES) database\\n- Results: \\n    - Prevalence of NAFLD was 35.9%\\n    - 62.6% attempted dietary changes, 39.1% attempted exercise, 3.3% joined a weight loss program, 4.9% took a non-prescription supplement, 0.7% took laxatives or vomited, and 0.5% started smoking\\n    - Increase in food insecurity as BMI increased\\n    - Black and White NAFLD patients reported similar rates of counseling, prescription of weight loss medications, bariatric surgery, interface with healthcare, and dietary changes\\n    - Black NAFLD patients were more likely to exercise, more likely to have household food insecurity, less likely to have private or any insurance coverage, and less likely to perceive themselves as overweight\\n    - Rate of prescribing weight loss medications or bariatric surgery for NAFLD was overall low at <5%\\n- Conclusion: Need to better understand the social determinants of health in promoting weight loss and treating NAFLD')"
   ]
  },
  {
   "cell_type": "code",
   "execution_count": 52,
   "metadata": {},
   "outputs": [
    {
     "name": "stdout",
     "output_type": "stream",
     "text": [
      "\n",
      "Selected 2 document sections:\n",
      "IDENTIFICATION OF THERAPEUTIC TARGETS FOR NON-ALCOHOLIC FATTY LIVER DISEASE THROUGH IN VIVO GENETIC SCREENS OF A PATIENT TRANSCRIPTOME-DERIVED shRNA LIBRARY\n",
      "NEW INSIGHT INTO THE PATHOPHYSIOLOGICAL PATHWAY OF NON-ALCOHOLIC FATTY LIVER DISEASE: A LIVER TISSUE PROTEOMICS ANALYSIS\n",
      "Summarize each of the medical abstracts provided below into a bulleted list that explains the purpose, methods, and results.\"\n",
      "\n",
      "Context:\n",
      "\n",
      "* Background: Non-alcoholic fatty liver disease (NAFLD) is rapidly being recognized as the most common cause of chronic liver disease worldwide with the obesity and diabetes mellitus epidemics. However, unlike other highly prevalent diseases, it remains an underrepresented disease with limited effective treatment options. Therefore, there is an urgent need to prioritize innovative therapeutic development. In this study, to address this, we combine transcriptomic profiling of NAFLD patient tissues with in vivo functional genetic screens in mouse mice of NAFLD to identify potential therapeutic targets. Methods: We performed RNA sequencing on liver tissues from 130 patients covering different stages of NAFLD. Based on the transcriptomic data, we generated a pooled shRNA library targeting the dysregulated genes in patients. The library was delivered into hepatocytes by a by a transposon-based vector system and hydrodynamic tail vein injection for the in vivo genetic screen. Mice were fed two NAFLD-inducing diets, a high-fat diet with high fructose and a Choline deficient L-amino acid-defined high-fat diet, respectively. As a control, normal diet animals were served. At the end of diet treatment, livers were harvested for deep sequencing to determine the abundance of each shRNA. Highly enriched shRNAs compared to control mice were selected as target candidates. The candidates were validated for therapeutic impact by various studies, including in vivo validation assay in mice that induced that every hepatocyte expresses the shRNA of interest by using a FAH -/- model. The mice were fed the two NAFLD-inducing diets, and diverse histopathology parameters were evaluated. Results: We selected 16 and 38 candidate genes from the screening in the two models, respectively. One of them was selected as the best candidate owing to the target gene shRNA being found to be highly enriched in both models. In the in vivo validation assays, the target gene silencing showed a reduction in disease progression in NAFLD mice models compared to the control shRNA. Further validation assays showed that the target gene silencing promoted regeneration of the liver without tumor developments. Conclusion: The results show that our approach, combining the NAFLD patient liver transcriptome research with in vivo functional genetic screen in the mouse models, could pinpoint potential targets for NAFLD therapeutics. The target gene identified by our approach demonstrated alleviated disease progression and promoted regeneration in vivo when inhibited. Our study may contribute to new insights into the therapeutic development of NAFLD.\n",
      "* Background: A few approved treatment options are available for non-alcoholic fatty liver disease (NAFLD), the commonest chronic liver disease in the USA. The search for a newer pharmacological agent is based on the current understanding of pathophysiology of the NAFLD, derived mostly from animal models. Human liver tissue analysis of subjects with this disease is limited. This study compares the significant changes in proteins across the NAFLD disease with normal subjects. Methods: A portion of liver tissue was flash frozen and stored at -80°C at the time of a liver biopsy procedure. We included 71 consecutive subjects diagnosed with NAFLD (21 without non-alcoholic steatohepatitis [NASH], 37 with NASH without advanced fibrosis, and 13 with advanced fibrosis) and nine with normal histology for the study. Following lipid fraction extraction, the liver tissue was sonicated and digested with trypsin at 37°C. Mass spectrometric analysis was performed for proteins. We used the following parameters to increase the specificity and decrease the number of analytes discovered: p-value < 0.01, log fold 2 change, ≤25% missing values, sensitivity, and specificity of 60%. Results: Different protein groups were compared was made between subjects with normal histology (without NAFLD) and those with NAFLD. Compared to normal, there were 70 different proteins found to be up or down-regulated in those with NAFLD (p<0.01). Among these proteins, three proteins up-regulated (based on fold increase) are aldo-keto reductase family 1 member (2.72), inhibin beta E chain (2.2) [shown in the figure], and perilipin-2 (2.1). The down-regulated proteins are as follows: cytochrome P450 2C19 (-2.4), UDP glucuronosyltransferase 1-3 (-2.0) and glutathione-S-transferase Mu (-1.0). The 70 significant proteins found in this analysis belonged to the following five pathways in descending order of significance (p-value 2.9x10^-10 to 1.0x10^-5), with the number of proteins (n) is as follows: neutrophil degranulation (7), JAK-STAT expression (4), post translation protein phosphorylation (3), and regulation of insulin-like growth factor [IGF] (3). Conclusion: The study identified proteins besides those belonging to the IGF pathway traditionally related to NAFLD pathogenesis. These included pathways associated with the inflammatory process seen among NASH subjects. These proteins could be a potential target for intervention to reduce the NAFLD occurrence and progression. We also detected specific up-regulated and down-regulated proteins as additional targets for treatment consideration. Further elucidation of the identified proteins with comprehensive plasma proteomics will guide in finding the elusive non-invasive markers for NAFLD and NASH.\n",
      "\n",
      " Summary: \n",
      "'* Study 1:\n",
      "    * Purpose: To identify potential therapeutic targets for non-alcoholic fatty liver disease (NAFLD) \n",
      "    * Methods: RNA sequencing on liver tissues from 130 patients, generation of a pooled shRNA library targeting the dysregulated genes in patients, delivery of library into hepatocytes by a transposon-based vector system and hydrodynamic tail vein injection for the in vivo genetic screen, mice fed two NAFLD-inducing diets, livers harvested for deep sequencing\n",
      "    * Results: 16 and 38 candidate genes selected from the screening in the two models, one of them selected as the best candidate, target gene silencing showed a reduction in disease progression in NAFLD mice models compared to the control shRNA, target gene silencing promoted regeneration of the liver without tumor developments\n",
      "\n",
      "* Study 2:\n",
      "    * Purpose: To compare the significant changes in proteins across the NAFLD disease with normal subjects\n",
      "    * Methods: Liver tissue flash frozen and stored at -80°C, lipid fraction extraction, liver tissue sonicated and digested with trypsin at 37°C, mass spectrometric analysis performed for proteins\n",
      "    * Results: 70 different proteins found to be up or down-regulated in those with NAFLD (p<0.01), three proteins up-regulated (based on fold increase): aldo-keto reductase family 1 member, inhibin beta E chain, and perilipin-2, three proteins down-regulated: cytochrome P450 2C19, UDP glucuronosyltransferase 1-3, and glutathione-S-transferase Mu, 70 significant proteins belonged to five pathways in descending order of significance'\n",
      "\n"
     ]
    }
   ],
   "source": [
    "print('''\n",
    "Selected 2 document sections:\n",
    "IDENTIFICATION OF THERAPEUTIC TARGETS FOR NON-ALCOHOLIC FATTY LIVER DISEASE THROUGH IN VIVO GENETIC SCREENS OF A PATIENT TRANSCRIPTOME-DERIVED shRNA LIBRARY\n",
    "NEW INSIGHT INTO THE PATHOPHYSIOLOGICAL PATHWAY OF NON-ALCOHOLIC FATTY LIVER DISEASE: A LIVER TISSUE PROTEOMICS ANALYSIS\n",
    "Summarize each of the medical abstracts provided below into a bulleted list that explains the purpose, methods, and results.\"\n",
    "\n",
    "Context:\n",
    "\n",
    "* Background: Non-alcoholic fatty liver disease (NAFLD) is rapidly being recognized as the most common cause of chronic liver disease worldwide with the obesity and diabetes mellitus epidemics. However, unlike other highly prevalent diseases, it remains an underrepresented disease with limited effective treatment options. Therefore, there is an urgent need to prioritize innovative therapeutic development. In this study, to address this, we combine transcriptomic profiling of NAFLD patient tissues with in vivo functional genetic screens in mouse mice of NAFLD to identify potential therapeutic targets. Methods: We performed RNA sequencing on liver tissues from 130 patients covering different stages of NAFLD. Based on the transcriptomic data, we generated a pooled shRNA library targeting the dysregulated genes in patients. The library was delivered into hepatocytes by a by a transposon-based vector system and hydrodynamic tail vein injection for the in vivo genetic screen. Mice were fed two NAFLD-inducing diets, a high-fat diet with high fructose and a Choline deficient L-amino acid-defined high-fat diet, respectively. As a control, normal diet animals were served. At the end of diet treatment, livers were harvested for deep sequencing to determine the abundance of each shRNA. Highly enriched shRNAs compared to control mice were selected as target candidates. The candidates were validated for therapeutic impact by various studies, including in vivo validation assay in mice that induced that every hepatocyte expresses the shRNA of interest by using a FAH -/- model. The mice were fed the two NAFLD-inducing diets, and diverse histopathology parameters were evaluated. Results: We selected 16 and 38 candidate genes from the screening in the two models, respectively. One of them was selected as the best candidate owing to the target gene shRNA being found to be highly enriched in both models. In the in vivo validation assays, the target gene silencing showed a reduction in disease progression in NAFLD mice models compared to the control shRNA. Further validation assays showed that the target gene silencing promoted regeneration of the liver without tumor developments. Conclusion: The results show that our approach, combining the NAFLD patient liver transcriptome research with in vivo functional genetic screen in the mouse models, could pinpoint potential targets for NAFLD therapeutics. The target gene identified by our approach demonstrated alleviated disease progression and promoted regeneration in vivo when inhibited. Our study may contribute to new insights into the therapeutic development of NAFLD.\n",
    "* Background: A few approved treatment options are available for non-alcoholic fatty liver disease (NAFLD), the commonest chronic liver disease in the USA. The search for a newer pharmacological agent is based on the current understanding of pathophysiology of the NAFLD, derived mostly from animal models. Human liver tissue analysis of subjects with this disease is limited. This study compares the significant changes in proteins across the NAFLD disease with normal subjects. Methods: A portion of liver tissue was flash frozen and stored at -80°C at the time of a liver biopsy procedure. We included 71 consecutive subjects diagnosed with NAFLD (21 without non-alcoholic steatohepatitis [NASH], 37 with NASH without advanced fibrosis, and 13 with advanced fibrosis) and nine with normal histology for the study. Following lipid fraction extraction, the liver tissue was sonicated and digested with trypsin at 37°C. Mass spectrometric analysis was performed for proteins. We used the following parameters to increase the specificity and decrease the number of analytes discovered: p-value < 0.01, log fold 2 change, ≤25% missing values, sensitivity, and specificity of 60%. Results: Different protein groups were compared was made between subjects with normal histology (without NAFLD) and those with NAFLD. Compared to normal, there were 70 different proteins found to be up or down-regulated in those with NAFLD (p<0.01). Among these proteins, three proteins up-regulated (based on fold increase) are aldo-keto reductase family 1 member (2.72), inhibin beta E chain (2.2) [shown in the figure], and perilipin-2 (2.1). The down-regulated proteins are as follows: cytochrome P450 2C19 (-2.4), UDP glucuronosyltransferase 1-3 (-2.0) and glutathione-S-transferase Mu (-1.0). The 70 significant proteins found in this analysis belonged to the following five pathways in descending order of significance (p-value 2.9x10^-10 to 1.0x10^-5), with the number of proteins (n) is as follows: neutrophil degranulation (7), JAK-STAT expression (4), post translation protein phosphorylation (3), and regulation of insulin-like growth factor [IGF] (3). Conclusion: The study identified proteins besides those belonging to the IGF pathway traditionally related to NAFLD pathogenesis. These included pathways associated with the inflammatory process seen among NASH subjects. These proteins could be a potential target for intervention to reduce the NAFLD occurrence and progression. We also detected specific up-regulated and down-regulated proteins as additional targets for treatment consideration. Further elucidation of the identified proteins with comprehensive plasma proteomics will guide in finding the elusive non-invasive markers for NAFLD and NASH.\n",
    "\n",
    " Summary: \n",
    "'* Study 1:\\n    * Purpose: To identify potential therapeutic targets for non-alcoholic fatty liver disease (NAFLD) \\n    * Methods: RNA sequencing on liver tissues from 130 patients, generation of a pooled shRNA library targeting the dysregulated genes in patients, delivery of library into hepatocytes by a transposon-based vector system and hydrodynamic tail vein injection for the in vivo genetic screen, mice fed two NAFLD-inducing diets, livers harvested for deep sequencing\\n    * Results: 16 and 38 candidate genes selected from the screening in the two models, one of them selected as the best candidate, target gene silencing showed a reduction in disease progression in NAFLD mice models compared to the control shRNA, target gene silencing promoted regeneration of the liver without tumor developments\\n\\n* Study 2:\\n    * Purpose: To compare the significant changes in proteins across the NAFLD disease with normal subjects\\n    * Methods: Liver tissue flash frozen and stored at -80°C, lipid fraction extraction, liver tissue sonicated and digested with trypsin at 37°C, mass spectrometric analysis performed for proteins\\n    * Results: 70 different proteins found to be up or down-regulated in those with NAFLD (p<0.01), three proteins up-regulated (based on fold increase): aldo-keto reductase family 1 member, inhibin beta E chain, and perilipin-2, three proteins down-regulated: cytochrome P450 2C19, UDP glucuronosyltransferase 1-3, and glutathione-S-transferase Mu, 70 significant proteins belonged to five pathways in descending order of significance'\n",
    "''')"
   ]
  },
  {
   "cell_type": "code",
   "execution_count": 51,
   "metadata": {},
   "outputs": [
    {
     "data": {
      "text/plain": [
       "'* Study 1:\\n    * Purpose: To identify potential therapeutic targets for non-alcoholic fatty liver disease (NAFLD) \\n    * Methods: RNA sequencing on liver tissues from 130 patients, generation of a pooled shRNA library targeting the dysregulated genes in patients, delivery of library into hepatocytes by a transposon-based vector system and hydrodynamic tail vein injection for the in vivo genetic screen, mice fed two NAFLD-inducing diets, livers harvested for deep sequencing\\n    * Results: 16 and 38 candidate genes selected from the screening in the two models, one of them selected as the best candidate, target gene silencing showed a reduction in disease progression in NAFLD mice models compared to the control shRNA, target gene silencing promoted regeneration of the liver without tumor developments\\n\\n* Study 2:\\n    * Purpose: To compare the significant changes in proteins across the NAFLD disease with normal subjects\\n    * Methods: Liver tissue flash frozen and stored at -80°C, lipid fraction extraction, liver tissue sonicated and digested with trypsin at 37°C, mass spectrometric analysis performed for proteins\\n    * Results: 70 different proteins found to be up or down-regulated in those with NAFLD (p<0.01), three proteins up-regulated (based on fold increase): aldo-keto reductase family 1 member, inhibin beta E chain, and perilipin-2, three proteins down-regulated: cytochrome P450 2C19, UDP glucuronosyltransferase 1-3, and glutathione-S-transferase Mu, 70 significant proteins belonged to five pathways in descending order of significance'"
      ]
     },
     "execution_count": 51,
     "metadata": {},
     "output_type": "execute_result"
    }
   ],
   "source": [
    "'* Study 1:\\n    * Purpose: To identify potential therapeutic targets for non-alcoholic fatty liver disease (NAFLD) \\n    * Methods: RNA sequencing on liver tissues from 130 patients, generation of a pooled shRNA library targeting the dysregulated genes in patients, delivery of library into hepatocytes by a transposon-based vector system and hydrodynamic tail vein injection for the in vivo genetic screen, mice fed two NAFLD-inducing diets, livers harvested for deep sequencing\\n    * Results: 16 and 38 candidate genes selected from the screening in the two models, one of them selected as the best candidate, target gene silencing showed a reduction in disease progression in NAFLD mice models compared to the control shRNA, target gene silencing promoted regeneration of the liver without tumor developments\\n\\n* Study 2:\\n    * Purpose: To compare the significant changes in proteins across the NAFLD disease with normal subjects\\n    * Methods: Liver tissue flash frozen and stored at -80°C, lipid fraction extraction, liver tissue sonicated and digested with trypsin at 37°C, mass spectrometric analysis performed for proteins\\n    * Results: 70 different proteins found to be up or down-regulated in those with NAFLD (p<0.01), three proteins up-regulated (based on fold increase): aldo-keto reductase family 1 member, inhibin beta E chain, and perilipin-2, three proteins down-regulated: cytochrome P450 2C19, UDP glucuronosyltransferase 1-3, and glutathione-S-transferase Mu, 70 significant proteins belonged to five pathways in descending order of significance'"
   ]
  },
  {
   "cell_type": "code",
   "execution_count": null,
   "metadata": {},
   "outputs": [],
   "source": []
  }
 ],
 "metadata": {
  "kernelspec": {
   "display_name": "env1",
   "language": "python",
   "name": "python3"
  },
  "language_info": {
   "codemirror_mode": {
    "name": "ipython",
    "version": 3
   },
   "file_extension": ".py",
   "mimetype": "text/x-python",
   "name": "python",
   "nbconvert_exporter": "python",
   "pygments_lexer": "ipython3",
   "version": "3.9.12"
  },
  "orig_nbformat": 4,
  "vscode": {
   "interpreter": {
    "hash": "6c7c351da69cb405910f3caa6ddfe900bb3dcdb0cb2dd7f61b08d006a3279f13"
   }
  }
 },
 "nbformat": 4,
 "nbformat_minor": 2
}
